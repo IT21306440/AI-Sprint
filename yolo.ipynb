{
 "cells": [
  {
   "cell_type": "code",
   "execution_count": 1,
   "metadata": {},
   "outputs": [
    {
     "name": "stdout",
     "output_type": "stream",
     "text": [
      "Requirement already satisfied: opencv-python in c:\\users\\94772\\desktop\\projects\\ai sprint\\venv\\lib\\site-packages (4.10.0.84)\n",
      "Requirement already satisfied: numpy>=1.21.2 in c:\\users\\94772\\desktop\\projects\\ai sprint\\venv\\lib\\site-packages (from opencv-python) (2.2.0)\n",
      "Note: you may need to restart the kernel to use updated packages.\n"
     ]
    },
    {
     "name": "stderr",
     "output_type": "stream",
     "text": [
      "WARNING: You are using pip version 21.2.3; however, version 24.3.1 is available.\n",
      "You should consider upgrading via the 'c:\\Users\\94772\\Desktop\\projects\\ai sprint\\venv\\Scripts\\python.exe -m pip install --upgrade pip' command.\n"
     ]
    }
   ],
   "source": [
    "%pip install opencv-python"
   ]
  },
  {
   "cell_type": "code",
   "execution_count": 2,
   "metadata": {},
   "outputs": [
    {
     "name": "stdout",
     "output_type": "stream",
     "text": [
      "Requirement already satisfied: ultralytics in c:\\users\\94772\\desktop\\projects\\ai sprint\\venv\\lib\\site-packages (8.3.49)\n",
      "Requirement already satisfied: matplotlib in c:\\users\\94772\\desktop\\projects\\ai sprint\\venv\\lib\\site-packages (3.10.0)\n",
      "Requirement already satisfied: flask in c:\\users\\94772\\desktop\\projects\\ai sprint\\venv\\lib\\site-packages (3.1.0)\n",
      "Requirement already satisfied: torchvision>=0.9.0 in c:\\users\\94772\\desktop\\projects\\ai sprint\\venv\\lib\\site-packages (from ultralytics) (0.20.1)\n",
      "Requirement already satisfied: py-cpuinfo in c:\\users\\94772\\desktop\\projects\\ai sprint\\venv\\lib\\site-packages (from ultralytics) (9.0.0)\n",
      "Requirement already satisfied: numpy>=1.23.0 in c:\\users\\94772\\desktop\\projects\\ai sprint\\venv\\lib\\site-packages (from ultralytics) (2.2.0)\n",
      "Requirement already satisfied: pandas>=1.1.4 in c:\\users\\94772\\desktop\\projects\\ai sprint\\venv\\lib\\site-packages (from ultralytics) (2.2.3)\n",
      "Requirement already satisfied: psutil in c:\\users\\94772\\desktop\\projects\\ai sprint\\venv\\lib\\site-packages (from ultralytics) (6.1.0)\n",
      "Requirement already satisfied: seaborn>=0.11.0 in c:\\users\\94772\\desktop\\projects\\ai sprint\\venv\\lib\\site-packages (from ultralytics) (0.13.2)\n",
      "Requirement already satisfied: ultralytics-thop>=2.0.0 in c:\\users\\94772\\desktop\\projects\\ai sprint\\venv\\lib\\site-packages (from ultralytics) (2.0.13)\n",
      "Requirement already satisfied: tqdm>=4.64.0 in c:\\users\\94772\\desktop\\projects\\ai sprint\\venv\\lib\\site-packages (from ultralytics) (4.67.1)\n",
      "Requirement already satisfied: pillow>=7.1.2 in c:\\users\\94772\\desktop\\projects\\ai sprint\\venv\\lib\\site-packages (from ultralytics) (11.0.0)\n",
      "Requirement already satisfied: opencv-python>=4.6.0 in c:\\users\\94772\\desktop\\projects\\ai sprint\\venv\\lib\\site-packages (from ultralytics) (4.10.0.84)\n",
      "Requirement already satisfied: requests>=2.23.0 in c:\\users\\94772\\desktop\\projects\\ai sprint\\venv\\lib\\site-packages (from ultralytics) (2.32.3)\n",
      "Requirement already satisfied: torch!=2.4.0,>=1.8.0 in c:\\users\\94772\\desktop\\projects\\ai sprint\\venv\\lib\\site-packages (from ultralytics) (2.5.1)\n",
      "Requirement already satisfied: pyyaml>=5.3.1 in c:\\users\\94772\\desktop\\projects\\ai sprint\\venv\\lib\\site-packages (from ultralytics) (6.0.2)\n",
      "Requirement already satisfied: scipy>=1.4.1 in c:\\users\\94772\\desktop\\projects\\ai sprint\\venv\\lib\\site-packages (from ultralytics) (1.14.1)\n",
      "Requirement already satisfied: packaging>=20.0 in c:\\users\\94772\\desktop\\projects\\ai sprint\\venv\\lib\\site-packages (from matplotlib) (24.2)\n",
      "Requirement already satisfied: contourpy>=1.0.1 in c:\\users\\94772\\desktop\\projects\\ai sprint\\venv\\lib\\site-packages (from matplotlib) (1.3.1)\n",
      "Requirement already satisfied: pyparsing>=2.3.1 in c:\\users\\94772\\desktop\\projects\\ai sprint\\venv\\lib\\site-packages (from matplotlib) (3.2.0)\n",
      "Requirement already satisfied: python-dateutil>=2.7 in c:\\users\\94772\\desktop\\projects\\ai sprint\\venv\\lib\\site-packages (from matplotlib) (2.9.0.post0)\n",
      "Requirement already satisfied: cycler>=0.10 in c:\\users\\94772\\desktop\\projects\\ai sprint\\venv\\lib\\site-packages (from matplotlib) (0.12.1)\n",
      "Requirement already satisfied: kiwisolver>=1.3.1 in c:\\users\\94772\\desktop\\projects\\ai sprint\\venv\\lib\\site-packages (from matplotlib) (1.4.7)\n",
      "Requirement already satisfied: fonttools>=4.22.0 in c:\\users\\94772\\desktop\\projects\\ai sprint\\venv\\lib\\site-packages (from matplotlib) (4.55.3)\n",
      "Requirement already satisfied: itsdangerous>=2.2 in c:\\users\\94772\\desktop\\projects\\ai sprint\\venv\\lib\\site-packages (from flask) (2.2.0)\n",
      "Requirement already satisfied: click>=8.1.3 in c:\\users\\94772\\desktop\\projects\\ai sprint\\venv\\lib\\site-packages (from flask) (8.1.7)\n",
      "Requirement already satisfied: Jinja2>=3.1.2 in c:\\users\\94772\\desktop\\projects\\ai sprint\\venv\\lib\\site-packages (from flask) (3.1.4)\n",
      "Requirement already satisfied: blinker>=1.9 in c:\\users\\94772\\desktop\\projects\\ai sprint\\venv\\lib\\site-packages (from flask) (1.9.0)\n",
      "Requirement already satisfied: Werkzeug>=3.1 in c:\\users\\94772\\desktop\\projects\\ai sprint\\venv\\lib\\site-packages (from flask) (3.1.3)\n",
      "Requirement already satisfied: colorama in c:\\users\\94772\\desktop\\projects\\ai sprint\\venv\\lib\\site-packages (from click>=8.1.3->flask) (0.4.6)\n",
      "Requirement already satisfied: MarkupSafe>=2.0 in c:\\users\\94772\\desktop\\projects\\ai sprint\\venv\\lib\\site-packages (from Jinja2>=3.1.2->flask) (3.0.2)\n",
      "Requirement already satisfied: tzdata>=2022.7 in c:\\users\\94772\\desktop\\projects\\ai sprint\\venv\\lib\\site-packages (from pandas>=1.1.4->ultralytics) (2024.2)\n",
      "Requirement already satisfied: pytz>=2020.1 in c:\\users\\94772\\desktop\\projects\\ai sprint\\venv\\lib\\site-packages (from pandas>=1.1.4->ultralytics) (2024.2)\n",
      "Requirement already satisfied: six>=1.5 in c:\\users\\94772\\desktop\\projects\\ai sprint\\venv\\lib\\site-packages (from python-dateutil>=2.7->matplotlib) (1.17.0)\n",
      "Requirement already satisfied: idna<4,>=2.5 in c:\\users\\94772\\desktop\\projects\\ai sprint\\venv\\lib\\site-packages (from requests>=2.23.0->ultralytics) (3.10)\n",
      "Requirement already satisfied: urllib3<3,>=1.21.1 in c:\\users\\94772\\desktop\\projects\\ai sprint\\venv\\lib\\site-packages (from requests>=2.23.0->ultralytics) (2.2.3)\n",
      "Requirement already satisfied: charset-normalizer<4,>=2 in c:\\users\\94772\\desktop\\projects\\ai sprint\\venv\\lib\\site-packages (from requests>=2.23.0->ultralytics) (3.4.0)\n",
      "Requirement already satisfied: certifi>=2017.4.17 in c:\\users\\94772\\desktop\\projects\\ai sprint\\venv\\lib\\site-packages (from requests>=2.23.0->ultralytics) (2024.8.30)\n",
      "Requirement already satisfied: fsspec in c:\\users\\94772\\desktop\\projects\\ai sprint\\venv\\lib\\site-packages (from torch!=2.4.0,>=1.8.0->ultralytics) (2024.10.0)\n",
      "Requirement already satisfied: networkx in c:\\users\\94772\\desktop\\projects\\ai sprint\\venv\\lib\\site-packages (from torch!=2.4.0,>=1.8.0->ultralytics) (3.4.2)\n",
      "Requirement already satisfied: filelock in c:\\users\\94772\\desktop\\projects\\ai sprint\\venv\\lib\\site-packages (from torch!=2.4.0,>=1.8.0->ultralytics) (3.16.1)\n",
      "Requirement already satisfied: sympy==1.13.1 in c:\\users\\94772\\desktop\\projects\\ai sprint\\venv\\lib\\site-packages (from torch!=2.4.0,>=1.8.0->ultralytics) (1.13.1)\n",
      "Requirement already satisfied: typing-extensions>=4.8.0 in c:\\users\\94772\\desktop\\projects\\ai sprint\\venv\\lib\\site-packages (from torch!=2.4.0,>=1.8.0->ultralytics) (4.12.2)\n",
      "Requirement already satisfied: mpmath<1.4,>=1.1.0 in c:\\users\\94772\\desktop\\projects\\ai sprint\\venv\\lib\\site-packages (from sympy==1.13.1->torch!=2.4.0,>=1.8.0->ultralytics) (1.3.0)\n",
      "Note: you may need to restart the kernel to use updated packages.\n"
     ]
    },
    {
     "name": "stderr",
     "output_type": "stream",
     "text": [
      "WARNING: You are using pip version 21.2.3; however, version 24.3.1 is available.\n",
      "You should consider upgrading via the 'c:\\Users\\94772\\Desktop\\projects\\ai sprint\\venv\\Scripts\\python.exe -m pip install --upgrade pip' command.\n"
     ]
    }
   ],
   "source": [
    "%pip install ultralytics matplotlib flask"
   ]
  },
  {
   "cell_type": "code",
   "execution_count": 3,
   "metadata": {},
   "outputs": [
    {
     "name": "stdout",
     "output_type": "stream",
     "text": [
      "Ultralytics YOLO version: 8.3.49\n"
     ]
    }
   ],
   "source": [
    "import pkg_resources\n",
    "\n",
    "print(\"Ultralytics YOLO version:\", pkg_resources.get_distribution(\"ultralytics\").version)\n"
   ]
  },
  {
   "cell_type": "code",
   "execution_count": 4,
   "metadata": {},
   "outputs": [
    {
     "name": "stdout",
     "output_type": "stream",
     "text": [
      "Ultralytics YOLO version: 8.3.49\n"
     ]
    }
   ],
   "source": [
    "from importlib.metadata import version\n",
    "\n",
    "print(\"Ultralytics YOLO version:\", version(\"ultralytics\"))\n"
   ]
  },
  {
   "cell_type": "code",
   "execution_count": 5,
   "metadata": {},
   "outputs": [
    {
     "name": "stdout",
     "output_type": "stream",
     "text": [
      "OpenCV version: 4.10.0\n",
      "Ultralytics YOLO version: 8.3.49\n",
      "Matplotlib version: 3.10.0\n",
      "Flask version: 3.1.0\n"
     ]
    }
   ],
   "source": [
    "import cv2\n",
    "from ultralytics import YOLO\n",
    "import matplotlib\n",
    "from flask import Flask\n",
    "from importlib.metadata import version\n",
    "import pkg_resources\n",
    "\n",
    "print(\"OpenCV version:\", cv2.__version__)\n",
    "print(\"Ultralytics YOLO version:\", version(\"ultralytics\"))\n",
    "print(\"Matplotlib version:\", matplotlib.__version__)\n",
    "print(\"Flask version:\", pkg_resources.get_distribution(\"flask\").version)\n"
   ]
  },
  {
   "cell_type": "code",
   "execution_count": 8,
   "metadata": {},
   "outputs": [
    {
     "name": "stdout",
     "output_type": "stream",
     "text": [
      "New https://pypi.org/project/ultralytics/8.3.65 available  Update with 'pip install -U ultralytics'\n",
      "Ultralytics 8.3.49  Python-3.10.0 torch-2.5.1+cpu CPU (12th Gen Intel Core(TM) i7-12700H)\n",
      "\u001b[34m\u001b[1mengine\\trainer: \u001b[0mtask=detect, mode=train, model=yolov8n.pt, data=voc.yaml, epochs=2, time=None, patience=100, batch=16, imgsz=640, save=True, save_period=-1, cache=False, device=None, workers=8, project=None, name=train8, exist_ok=False, pretrained=True, optimizer=auto, verbose=True, seed=0, deterministic=True, single_cls=False, rect=False, cos_lr=False, close_mosaic=10, resume=False, amp=True, fraction=1.0, profile=False, freeze=None, multi_scale=False, overlap_mask=True, mask_ratio=4, dropout=0.0, val=True, split=val, save_json=False, save_hybrid=False, conf=None, iou=0.7, max_det=300, half=False, dnn=False, plots=True, source=None, vid_stride=1, stream_buffer=False, visualize=False, augment=False, agnostic_nms=False, classes=None, retina_masks=False, embed=None, show=False, save_frames=False, save_txt=False, save_conf=False, save_crop=False, show_labels=True, show_conf=True, show_boxes=True, line_width=None, format=torchscript, keras=False, optimize=False, int8=False, dynamic=False, simplify=True, opset=None, workspace=None, nms=False, lr0=0.01, lrf=0.01, momentum=0.937, weight_decay=0.0005, warmup_epochs=3.0, warmup_momentum=0.8, warmup_bias_lr=0.1, box=7.5, cls=0.5, dfl=1.5, pose=12.0, kobj=1.0, nbs=64, hsv_h=0.015, hsv_s=0.7, hsv_v=0.4, degrees=0.0, translate=0.1, scale=0.5, shear=0.0, perspective=0.0, flipud=0.0, fliplr=0.5, bgr=0.0, mosaic=1.0, mixup=0.0, copy_paste=0.0, copy_paste_mode=flip, auto_augment=randaugment, erasing=0.4, crop_fraction=1.0, cfg=None, tracker=botsort.yaml, save_dir=runs\\detect\\train8\n",
      "Overriding model.yaml nc=80 with nc=23\n",
      "\n",
      "                   from  n    params  module                                       arguments                     \n",
      "  0                  -1  1       464  ultralytics.nn.modules.conv.Conv             [3, 16, 3, 2]                 \n",
      "  1                  -1  1      4672  ultralytics.nn.modules.conv.Conv             [16, 32, 3, 2]                \n",
      "  2                  -1  1      7360  ultralytics.nn.modules.block.C2f             [32, 32, 1, True]             \n",
      "  3                  -1  1     18560  ultralytics.nn.modules.conv.Conv             [32, 64, 3, 2]                \n",
      "  4                  -1  2     49664  ultralytics.nn.modules.block.C2f             [64, 64, 2, True]             \n",
      "  5                  -1  1     73984  ultralytics.nn.modules.conv.Conv             [64, 128, 3, 2]               \n",
      "  6                  -1  2    197632  ultralytics.nn.modules.block.C2f             [128, 128, 2, True]           \n",
      "  7                  -1  1    295424  ultralytics.nn.modules.conv.Conv             [128, 256, 3, 2]              \n",
      "  8                  -1  1    460288  ultralytics.nn.modules.block.C2f             [256, 256, 1, True]           \n",
      "  9                  -1  1    164608  ultralytics.nn.modules.block.SPPF            [256, 256, 5]                 \n",
      " 10                  -1  1         0  torch.nn.modules.upsampling.Upsample         [None, 2, 'nearest']          \n",
      " 11             [-1, 6]  1         0  ultralytics.nn.modules.conv.Concat           [1]                           \n",
      " 12                  -1  1    148224  ultralytics.nn.modules.block.C2f             [384, 128, 1]                 \n",
      " 13                  -1  1         0  torch.nn.modules.upsampling.Upsample         [None, 2, 'nearest']          \n",
      " 14             [-1, 4]  1         0  ultralytics.nn.modules.conv.Concat           [1]                           \n",
      " 15                  -1  1     37248  ultralytics.nn.modules.block.C2f             [192, 64, 1]                  \n",
      " 16                  -1  1     36992  ultralytics.nn.modules.conv.Conv             [64, 64, 3, 2]                \n",
      " 17            [-1, 12]  1         0  ultralytics.nn.modules.conv.Concat           [1]                           \n",
      " 18                  -1  1    123648  ultralytics.nn.modules.block.C2f             [192, 128, 1]                 \n",
      " 19                  -1  1    147712  ultralytics.nn.modules.conv.Conv             [128, 128, 3, 2]              \n",
      " 20             [-1, 9]  1         0  ultralytics.nn.modules.conv.Concat           [1]                           \n",
      " 21                  -1  1    493056  ultralytics.nn.modules.block.C2f             [384, 256, 1]                 \n",
      " 22        [15, 18, 21]  1    755797  ultralytics.nn.modules.head.Detect           [23, [64, 128, 256]]          \n",
      "Model summary: 225 layers, 3,015,333 parameters, 3,015,317 gradients, 8.2 GFLOPs\n",
      "\n",
      "Transferred 319/355 items from pretrained weights\n",
      "Freezing layer 'model.22.dfl.conv.weight'\n"
     ]
    },
    {
     "name": "stderr",
     "output_type": "stream",
     "text": [
      "\u001b[34m\u001b[1mtrain: \u001b[0mScanning C:\\Users\\94772\\Desktop\\projects\\ai sprint\\datasets\\pascal_voc\\labels.cache... 5011 images, 876 backgrounds, 0 corrupt: 100%|██████████| 5011/5011 [00:00<?, ?it/s]\n",
      "\u001b[34m\u001b[1mval: \u001b[0mScanning C:\\Users\\94772\\Desktop\\projects\\ai sprint\\datasets\\pascal_voc\\labels.cache... 5011 images, 876 backgrounds, 0 corrupt: 100%|██████████| 5011/5011 [00:00<?, ?it/s]"
     ]
    },
    {
     "name": "stdout",
     "output_type": "stream",
     "text": [
      "Plotting labels to runs\\detect\\train8\\labels.jpg... \n"
     ]
    },
    {
     "name": "stderr",
     "output_type": "stream",
     "text": [
      "\n"
     ]
    },
    {
     "name": "stdout",
     "output_type": "stream",
     "text": [
      "\u001b[34m\u001b[1moptimizer:\u001b[0m 'optimizer=auto' found, ignoring 'lr0=0.01' and 'momentum=0.937' and determining best 'optimizer', 'lr0' and 'momentum' automatically... \n",
      "\u001b[34m\u001b[1moptimizer:\u001b[0m AdamW(lr=0.00037, momentum=0.9) with parameter groups 57 weight(decay=0.0), 64 weight(decay=0.0005), 63 bias(decay=0.0)\n",
      "Image sizes 640 train, 640 val\n",
      "Using 0 dataloader workers\n",
      "Logging results to \u001b[1mruns\\detect\\train8\u001b[0m\n",
      "Starting training for 2 epochs...\n",
      "\n",
      "      Epoch    GPU_mem   box_loss   cls_loss   dfl_loss  Instances       Size\n"
     ]
    },
    {
     "name": "stderr",
     "output_type": "stream",
     "text": [
      "        1/2         0G      1.058      2.642      1.269         25        640: 100%|██████████| 314/314 [18:38<00:00,  3.56s/it]\n",
      "                 Class     Images  Instances      Box(P          R      mAP50  mAP50-95): 100%|██████████| 157/157 [05:38<00:00,  2.16s/it]\n"
     ]
    },
    {
     "name": "stdout",
     "output_type": "stream",
     "text": [
      "                   all       5011      11270      0.688       0.61      0.673      0.471\n",
      "\n",
      "      Epoch    GPU_mem   box_loss   cls_loss   dfl_loss  Instances       Size\n"
     ]
    },
    {
     "name": "stderr",
     "output_type": "stream",
     "text": [
      "        2/2         0G      1.063      1.738      1.271          5        640: 100%|██████████| 314/314 [16:21<00:00,  3.12s/it]\n",
      "                 Class     Images  Instances      Box(P          R      mAP50  mAP50-95): 100%|██████████| 157/157 [07:19<00:00,  2.80s/it]\n"
     ]
    },
    {
     "name": "stdout",
     "output_type": "stream",
     "text": [
      "                   all       5011      11270      0.743       0.69      0.761      0.533\n",
      "\n",
      "2 epochs completed in 0.800 hours.\n",
      "Optimizer stripped from runs\\detect\\train8\\weights\\last.pt, 6.2MB\n",
      "Optimizer stripped from runs\\detect\\train8\\weights\\best.pt, 6.2MB\n",
      "\n",
      "Validating runs\\detect\\train8\\weights\\best.pt...\n",
      "Ultralytics 8.3.49  Python-3.10.0 torch-2.5.1+cpu CPU (12th Gen Intel Core(TM) i7-12700H)\n",
      "Model summary (fused): 168 layers, 3,010,133 parameters, 0 gradients, 8.1 GFLOPs\n"
     ]
    },
    {
     "ename": "SyntaxError",
     "evalue": "voc.yaml 'names' length 24 and 'nc: 23' must match. (<string>)",
     "output_type": "error",
     "traceback": [
      "Traceback \u001b[1;36m(most recent call last)\u001b[0m:\n",
      "\u001b[0m  File \u001b[0;32mc:\\Users\\94772\\Desktop\\projects\\ai sprint\\venv\\lib\\site-packages\\IPython\\core\\interactiveshell.py:3577\u001b[0m in \u001b[0;35mrun_code\u001b[0m\n    exec(code_obj, self.user_global_ns, self.user_ns)\u001b[0m\n",
      "\u001b[0m  Cell \u001b[0;32mIn[8], line 7\u001b[0m\n    model.train(data='voc.yaml', epochs=2, imgsz=640)\u001b[0m\n",
      "\u001b[0m  File \u001b[0;32mc:\\Users\\94772\\Desktop\\projects\\ai sprint\\venv\\lib\\site-packages\\ultralytics\\engine\\model.py:806\u001b[0m in \u001b[0;35mtrain\u001b[0m\n    self.trainer.train()\u001b[0m\n",
      "\u001b[0m  File \u001b[0;32mc:\\Users\\94772\\Desktop\\projects\\ai sprint\\venv\\lib\\site-packages\\ultralytics\\engine\\trainer.py:207\u001b[0m in \u001b[0;35mtrain\u001b[0m\n    self._do_train(world_size)\u001b[0m\n",
      "\u001b[0m  File \u001b[0;32mc:\\Users\\94772\\Desktop\\projects\\ai sprint\\venv\\lib\\site-packages\\ultralytics\\engine\\trainer.py:469\u001b[0m in \u001b[0;35m_do_train\u001b[0m\n    self.final_eval()\u001b[0m\n",
      "\u001b[0m  File \u001b[0;32mc:\\Users\\94772\\Desktop\\projects\\ai sprint\\venv\\lib\\site-packages\\ultralytics\\engine\\trainer.py:687\u001b[0m in \u001b[0;35mfinal_eval\u001b[0m\n    self.metrics = self.validator(model=f)\u001b[0m\n",
      "\u001b[0m  File \u001b[0;32mc:\\Users\\94772\\Desktop\\projects\\ai sprint\\venv\\lib\\site-packages\\torch\\utils\\_contextlib.py:116\u001b[0m in \u001b[0;35mdecorate_context\u001b[0m\n    return func(*args, **kwargs)\u001b[0m\n",
      "\u001b[0m  File \u001b[0;32mc:\\Users\\94772\\Desktop\\projects\\ai sprint\\venv\\lib\\site-packages\\ultralytics\\engine\\validator.py:145\u001b[0m in \u001b[0;35m__call__\u001b[0m\n    self.data = check_det_dataset(self.args.data)\u001b[0m\n",
      "\u001b[1;36m  File \u001b[1;32mc:\\Users\\94772\\Desktop\\projects\\ai sprint\\venv\\lib\\site-packages\\ultralytics\\data\\utils.py:293\u001b[1;36m in \u001b[1;35mcheck_det_dataset\u001b[1;36m\n\u001b[1;33m    raise SyntaxError(emojis(f\"{dataset} 'names' length {len(data['names'])} and 'nc: {data['nc']}' must match.\"))\u001b[1;36m\n",
      "\u001b[1;36m  File \u001b[1;32m<string>\u001b[1;36m\u001b[0m\n\u001b[1;31mSyntaxError\u001b[0m\u001b[1;31m:\u001b[0m voc.yaml 'names' length 24 and 'nc: 23' must match.\n"
     ]
    }
   ],
   "source": [
    "from ultralytics import YOLO\n",
    "\n",
    "# Load the pre-trained model\n",
    "model = YOLO('yolov8n.pt')  \n",
    "\n",
    "# Train the model with new data\n",
    "model.train(data='voc.yaml', epochs=2, imgsz=640)\n",
    "\n",
    "print(\"Model downloaded successfully!\")\n"
   ]
  },
  {
   "cell_type": "code",
   "execution_count": 11,
   "metadata": {},
   "outputs": [],
   "source": [
    "model.save('yolov8n-custom.pt')\n"
   ]
  },
  {
   "cell_type": "code",
   "execution_count": 10,
   "metadata": {},
   "outputs": [
    {
     "name": "stdout",
     "output_type": "stream",
     "text": [
      "Collecting mediapipe\n",
      "  Downloading mediapipe-0.10.20-cp310-cp310-win_amd64.whl (51.0 MB)\n",
      "Collecting protobuf<5,>=4.25.3\n",
      "  Using cached protobuf-4.25.5-cp310-abi3-win_amd64.whl (413 kB)\n",
      "Collecting jaxlib\n",
      "  Downloading jaxlib-0.5.0-cp310-cp310-win_amd64.whl (63.9 MB)\n",
      "Collecting absl-py\n",
      "  Using cached absl_py-2.1.0-py3-none-any.whl (133 kB)\n",
      "Collecting jax\n",
      "  Downloading jax-0.5.0-py3-none-any.whl (2.3 MB)\n",
      "Collecting opencv-contrib-python\n",
      "  Downloading opencv_contrib_python-4.11.0.86-cp37-abi3-win_amd64.whl (46.2 MB)\n",
      "Collecting numpy<2\n",
      "  Using cached numpy-1.26.4-cp310-cp310-win_amd64.whl (15.8 MB)\n",
      "Requirement already satisfied: matplotlib in c:\\users\\94772\\desktop\\projects\\ai sprint\\venv\\lib\\site-packages (from mediapipe) (3.10.0)\n",
      "Collecting sounddevice>=0.4.4\n",
      "  Using cached sounddevice-0.5.1-py3-none-win_amd64.whl (363 kB)\n",
      "Collecting flatbuffers>=2.0\n",
      "  Downloading flatbuffers-24.12.23-py2.py3-none-any.whl (30 kB)\n",
      "Collecting attrs>=19.1.0\n",
      "  Downloading attrs-24.3.0-py3-none-any.whl (63 kB)\n",
      "Collecting sentencepiece\n",
      "  Downloading sentencepiece-0.2.0-cp310-cp310-win_amd64.whl (991 kB)\n",
      "Collecting CFFI>=1.0\n",
      "  Downloading cffi-1.17.1-cp310-cp310-win_amd64.whl (181 kB)\n",
      "Collecting pycparser\n",
      "  Downloading pycparser-2.22-py3-none-any.whl (117 kB)\n",
      "Collecting ml_dtypes>=0.4.0\n",
      "  Downloading ml_dtypes-0.5.1-cp310-cp310-win_amd64.whl (209 kB)\n",
      "Collecting opt_einsum\n",
      "  Downloading opt_einsum-3.4.0-py3-none-any.whl (71 kB)\n",
      "Requirement already satisfied: scipy>=1.11.1 in c:\\users\\94772\\desktop\\projects\\ai sprint\\venv\\lib\\site-packages (from jax->mediapipe) (1.14.1)\n",
      "Requirement already satisfied: pillow>=8 in c:\\users\\94772\\desktop\\projects\\ai sprint\\venv\\lib\\site-packages (from matplotlib->mediapipe) (11.0.0)\n",
      "Requirement already satisfied: pyparsing>=2.3.1 in c:\\users\\94772\\desktop\\projects\\ai sprint\\venv\\lib\\site-packages (from matplotlib->mediapipe) (3.2.0)\n",
      "Requirement already satisfied: fonttools>=4.22.0 in c:\\users\\94772\\desktop\\projects\\ai sprint\\venv\\lib\\site-packages (from matplotlib->mediapipe) (4.55.3)\n",
      "Requirement already satisfied: contourpy>=1.0.1 in c:\\users\\94772\\desktop\\projects\\ai sprint\\venv\\lib\\site-packages (from matplotlib->mediapipe) (1.3.1)\n",
      "Requirement already satisfied: python-dateutil>=2.7 in c:\\users\\94772\\desktop\\projects\\ai sprint\\venv\\lib\\site-packages (from matplotlib->mediapipe) (2.9.0.post0)\n",
      "Requirement already satisfied: kiwisolver>=1.3.1 in c:\\users\\94772\\desktop\\projects\\ai sprint\\venv\\lib\\site-packages (from matplotlib->mediapipe) (1.4.7)\n",
      "Requirement already satisfied: cycler>=0.10 in c:\\users\\94772\\desktop\\projects\\ai sprint\\venv\\lib\\site-packages (from matplotlib->mediapipe) (0.12.1)\n",
      "Requirement already satisfied: packaging>=20.0 in c:\\users\\94772\\desktop\\projects\\ai sprint\\venv\\lib\\site-packages (from matplotlib->mediapipe) (24.2)\n",
      "Requirement already satisfied: six>=1.5 in c:\\users\\94772\\desktop\\projects\\ai sprint\\venv\\lib\\site-packages (from python-dateutil>=2.7->matplotlib->mediapipe) (1.17.0)\n",
      "Installing collected packages: numpy, pycparser, ml-dtypes, opt-einsum, jaxlib, CFFI, sounddevice, sentencepiece, protobuf, opencv-contrib-python, jax, flatbuffers, attrs, absl-py, mediapipe\n",
      "  Attempting uninstall: numpy\n",
      "    Found existing installation: numpy 2.2.0\n",
      "    Uninstalling numpy-2.2.0:\n",
      "      Successfully uninstalled numpy-2.2.0\n",
      "Note: you may need to restart the kernel to use updated packages.\n"
     ]
    },
    {
     "name": "stderr",
     "output_type": "stream",
     "text": [
      "ERROR: Could not install packages due to an OSError: [WinError 5] Access is denied: 'C:\\\\Users\\\\94772\\\\Desktop\\\\projects\\\\ai sprint\\\\venv\\\\Lib\\\\site-packages\\\\~umpy.libs\\\\libscipy_openblas64_-43e11ff0749b8cbe0a615c9cf6737e0e.dll'\n",
      "Check the permissions.\n",
      "\n",
      "WARNING: You are using pip version 21.2.3; however, version 24.3.1 is available.\n",
      "You should consider upgrading via the 'c:\\Users\\94772\\Desktop\\projects\\ai sprint\\venv\\Scripts\\python.exe -m pip install --upgrade pip' command.\n"
     ]
    }
   ],
   "source": [
    "%pip install mediapipe"
   ]
  },
  {
   "cell_type": "code",
   "execution_count": 14,
   "metadata": {},
   "outputs": [
    {
     "name": "stdout",
     "output_type": "stream",
     "text": [
      "Model Classes: {0: 'person', 1: 'bicycle', 2: 'car', 3: 'motorcycle', 4: 'airplane', 5: 'bus', 6: 'train', 7: 'truck', 8: 'boat', 9: 'traffic light', 10: 'fire hydrant', 11: 'stop sign', 12: 'parking meter', 13: 'bench', 14: 'bird', 15: 'cat', 16: 'dog', 17: 'horse', 18: 'sheep', 19: 'cow', 20: 'elephant', 21: 'bear', 22: 'zebra', 23: 'giraffe', 24: 'backpack', 25: 'umbrella', 26: 'handbag', 27: 'tie', 28: 'suitcase', 29: 'frisbee', 30: 'skis', 31: 'snowboard', 32: 'sports ball', 33: 'kite', 34: 'baseball bat', 35: 'baseball glove', 36: 'skateboard', 37: 'surfboard', 38: 'tennis racket', 39: 'bottle', 40: 'wine glass', 41: 'cup', 42: 'fork', 43: 'knife', 44: 'spoon', 45: 'bowl', 46: 'banana', 47: 'apple', 48: 'sandwich', 49: 'orange', 50: 'broccoli', 51: 'carrot', 52: 'hot dog', 53: 'pizza', 54: 'donut', 55: 'cake', 56: 'chair', 57: 'couch', 58: 'potted plant', 59: 'bed', 60: 'dining table', 61: 'toilet', 62: 'tv', 63: 'laptop', 64: 'mouse', 65: 'remote', 66: 'keyboard', 67: 'cell phone', 68: 'microwave', 69: 'oven', 70: 'toaster', 71: 'sink', 72: 'refrigerator', 73: 'book', 74: 'clock', 75: 'vase', 76: 'scissors', 77: 'teddy bear', 78: 'hair drier', 79: 'toothbrush'}\n"
     ]
    }
   ],
   "source": [
    "# Check the model's classes\n",
    "print(\"Model Classes:\", model.names)"
   ]
  },
  {
   "cell_type": "code",
   "execution_count": 9,
   "metadata": {},
   "outputs": [
    {
     "name": "stdout",
     "output_type": "stream",
     "text": [
      "Requirement already satisfied: labelImg in c:\\users\\94772\\desktop\\projects\\ai sprint\\venv\\lib\\site-packages (1.8.6)\n",
      "Requirement already satisfied: pyqt5 in c:\\users\\94772\\desktop\\projects\\ai sprint\\venv\\lib\\site-packages (from labelImg) (5.15.11)\n",
      "Requirement already satisfied: lxml in c:\\users\\94772\\desktop\\projects\\ai sprint\\venv\\lib\\site-packages (from labelImg) (5.3.0)\n",
      "Requirement already satisfied: PyQt5-sip<13,>=12.15 in c:\\users\\94772\\desktop\\projects\\ai sprint\\venv\\lib\\site-packages (from pyqt5->labelImg) (12.16.1)\n",
      "Requirement already satisfied: PyQt5-Qt5<5.16.0,>=5.15.2 in c:\\users\\94772\\desktop\\projects\\ai sprint\\venv\\lib\\site-packages (from pyqt5->labelImg) (5.15.2)\n",
      "Note: you may need to restart the kernel to use updated packages.\n"
     ]
    },
    {
     "name": "stderr",
     "output_type": "stream",
     "text": [
      "WARNING: You are using pip version 21.2.3; however, version 24.3.1 is available.\n",
      "You should consider upgrading via the 'c:\\Users\\94772\\Desktop\\projects\\ai sprint\\venv\\Scripts\\python.exe -m pip install --upgrade pip' command.\n"
     ]
    }
   ],
   "source": [
    "%pip install labelImg"
   ]
  },
  {
   "cell_type": "code",
   "execution_count": 17,
   "metadata": {},
   "outputs": [
    {
     "name": "stdout",
     "output_type": "stream",
     "text": [
      "Downloading PASCAL VOC 2007...\n",
      "Extracting PASCAL VOC 2007...\n",
      "PASCAL VOC 2007 Downloaded and Extracted Successfully!\n"
     ]
    }
   ],
   "source": [
    "import os\n",
    "import urllib.request\n",
    "import tarfile\n",
    "\n",
    "# Create a directory to store the dataset\n",
    "os.makedirs(\"datasets/pascal_voc\", exist_ok=True)\n",
    "\n",
    "# URL for PASCAL VOC 2007 Train/Val\n",
    "url = \"http://host.robots.ox.ac.uk/pascal/VOC/voc2007/VOCtrainval_06-Nov-2007.tar\"\n",
    "output_path = \"datasets/pascal_voc/VOCtrainval_06-Nov-2007.tar\"\n",
    "\n",
    "# Download the dataset\n",
    "print(\"Downloading PASCAL VOC 2007...\")\n",
    "urllib.request.urlretrieve(url, output_path)\n",
    "\n",
    "# Extract the dataset\n",
    "print(\"Extracting PASCAL VOC 2007...\")\n",
    "with tarfile.open(output_path, \"r\") as tar:\n",
    "    tar.extractall(path=\"datasets/pascal_voc\")\n",
    "\n",
    "print(\"PASCAL VOC 2007 Downloaded and Extracted Successfully!\")\n"
   ]
  },
  {
   "cell_type": "code",
   "execution_count": 18,
   "metadata": {},
   "outputs": [
    {
     "name": "stdout",
     "output_type": "stream",
     "text": [
      "Conversion completed. YOLO annotations saved in: datasets/pascal_voc/yolo_annotations\n"
     ]
    }
   ],
   "source": [
    "import os\n",
    "import xml.etree.ElementTree as ET\n",
    "\n",
    "# Paths\n",
    "voc_root = \"datasets/pascal_voc/VOCdevkit/VOC2007\"\n",
    "annotations_dir = os.path.join(voc_root, \"Annotations\")\n",
    "images_dir = os.path.join(voc_root, \"JPEGImages\")\n",
    "output_dir = \"datasets/pascal_voc/yolo_annotations\"\n",
    "os.makedirs(output_dir, exist_ok=True)\n",
    "\n",
    "# PASCAL VOC classes\n",
    "classes = [\"person\", \"bicycle\", \"car\", \"motorbike\", \"aeroplane\", \"bus\", \"train\", \"boat\",\n",
    "           \"cat\", \"dog\", \"horse\", \"sheep\", \"cow\", \"elephant\", \"bear\", \"zebra\", \"giraffe\"]\n",
    "\n",
    "def convert_bbox(size, box):\n",
    "    \"\"\"Convert VOC bounding box to YOLO format.\"\"\"\n",
    "    dw = 1.0 / size[0]\n",
    "    dh = 1.0 / size[1]\n",
    "    x = (box[0] + box[1]) / 2.0\n",
    "    y = (box[2] + box[3]) / 2.0\n",
    "    w = box[1] - box[0]\n",
    "    h = box[3] - box[2]\n",
    "    return x * dw, y * dh, w * dw, h * dh\n",
    "\n",
    "# Loop through all annotation files\n",
    "for xml_file in os.listdir(annotations_dir):\n",
    "    if not xml_file.endswith(\".xml\"):\n",
    "        continue\n",
    "\n",
    "    # Parse XML\n",
    "    tree = ET.parse(os.path.join(annotations_dir, xml_file))\n",
    "    root = tree.getroot()\n",
    "\n",
    "    # Get image size\n",
    "    size = root.find(\"size\")\n",
    "    width = int(size.find(\"width\").text)\n",
    "    height = int(size.find(\"height\").text)\n",
    "\n",
    "    # Open output file\n",
    "    txt_file = os.path.join(output_dir, xml_file.replace(\".xml\", \".txt\"))\n",
    "    with open(txt_file, \"w\") as f:\n",
    "        # Loop through all objects in the image\n",
    "        for obj in root.findall(\"object\"):\n",
    "            cls = obj.find(\"name\").text\n",
    "            if cls not in classes:\n",
    "                continue\n",
    "            cls_id = classes.index(cls)\n",
    "            bndbox = obj.find(\"bndbox\")\n",
    "            bbox = (\n",
    "                float(bndbox.find(\"xmin\").text),\n",
    "                float(bndbox.find(\"xmax\").text),\n",
    "                float(bndbox.find(\"ymin\").text),\n",
    "                float(bndbox.find(\"ymax\").text),\n",
    "            )\n",
    "            bb = convert_bbox((width, height), bbox)\n",
    "            f.write(f\"{cls_id} {' '.join(map(str, bb))}\\n\")\n",
    "\n",
    "print(\"Conversion completed. YOLO annotations saved in:\", output_dir)\n"
   ]
  },
  {
   "cell_type": "code",
   "execution_count": 24,
   "metadata": {},
   "outputs": [
    {
     "name": "stdout",
     "output_type": "stream",
     "text": [
      "Images directory exists: True\n",
      "Labels directory exists: True\n"
     ]
    }
   ],
   "source": [
    "import os\n",
    "\n",
    "# Check images directory\n",
    "print(\"Images directory exists:\", os.path.exists(\"datasets/pascal_voc/images\"))\n",
    "\n",
    "# Check labels directory\n",
    "print(\"Labels directory exists:\", os.path.exists(\"datasets/pascal_voc/labels\"))\n"
   ]
  },
  {
   "cell_type": "code",
   "execution_count": 25,
   "metadata": {},
   "outputs": [
    {
     "name": "stdout",
     "output_type": "stream",
     "text": [
      "Unmatched files: []\n"
     ]
    }
   ],
   "source": [
    "images_dir = \"datasets/pascal_voc/images\"\n",
    "labels_dir = \"datasets/pascal_voc/labels\"\n",
    "\n",
    "# List all images and label files\n",
    "images = sorted(os.listdir(images_dir))\n",
    "labels = sorted(os.listdir(labels_dir))\n",
    "\n",
    "# Check if every image has a label\n",
    "unmatched = [img for img in images if img.replace(\".jpg\", \".txt\") not in labels]\n",
    "print(\"Unmatched files:\", unmatched)\n"
   ]
  },
  {
   "cell_type": "code",
   "execution_count": null,
   "metadata": {},
   "outputs": [
    {
     "name": "stdout",
     "output_type": "stream",
     "text": [
      "Ultralytics 8.3.49  Python-3.10.0 torch-2.5.1+cpu CPU (12th Gen Intel Core(TM) i7-12700H)\n",
      "\u001b[34m\u001b[1mengine\\trainer: \u001b[0mtask=detect, mode=train, model=yolov8n.pt, data=voc.yaml, epochs=10, time=None, patience=100, batch=16, imgsz=640, save=True, save_period=-1, cache=False, device=None, workers=8, project=None, name=train5, exist_ok=False, pretrained=True, optimizer=auto, verbose=True, seed=0, deterministic=True, single_cls=False, rect=False, cos_lr=False, close_mosaic=10, resume=False, amp=True, fraction=1.0, profile=False, freeze=None, multi_scale=False, overlap_mask=True, mask_ratio=4, dropout=0.0, val=True, split=val, save_json=False, save_hybrid=False, conf=None, iou=0.7, max_det=300, half=False, dnn=False, plots=True, source=None, vid_stride=1, stream_buffer=False, visualize=False, augment=False, agnostic_nms=False, classes=None, retina_masks=False, embed=None, show=False, save_frames=False, save_txt=False, save_conf=False, save_crop=False, show_labels=True, show_conf=True, show_boxes=True, line_width=None, format=torchscript, keras=False, optimize=False, int8=False, dynamic=False, simplify=True, opset=None, workspace=None, nms=False, lr0=0.01, lrf=0.01, momentum=0.937, weight_decay=0.0005, warmup_epochs=3.0, warmup_momentum=0.8, warmup_bias_lr=0.1, box=7.5, cls=0.5, dfl=1.5, pose=12.0, kobj=1.0, nbs=64, hsv_h=0.015, hsv_s=0.7, hsv_v=0.4, degrees=0.0, translate=0.1, scale=0.5, shear=0.0, perspective=0.0, flipud=0.0, fliplr=0.5, bgr=0.0, mosaic=1.0, mixup=0.0, copy_paste=0.0, copy_paste_mode=flip, auto_augment=randaugment, erasing=0.4, crop_fraction=1.0, cfg=None, tracker=botsort.yaml, save_dir=runs\\detect\\train5\n",
      "Downloading https://ultralytics.com/assets/Arial.ttf to 'C:\\Users\\94772\\AppData\\Roaming\\Ultralytics\\Arial.ttf'...\n"
     ]
    },
    {
     "name": "stderr",
     "output_type": "stream",
     "text": [
      "100%|██████████| 755k/755k [00:00<00:00, 1.05MB/s]"
     ]
    },
    {
     "name": "stdout",
     "output_type": "stream",
     "text": [
      "Overriding model.yaml nc=80 with nc=20\n",
      "\n",
      "                   from  n    params  module                                       arguments                     \n",
      "  0                  -1  1       464  ultralytics.nn.modules.conv.Conv             [3, 16, 3, 2]                 \n",
      "  1                  -1  1      4672  ultralytics.nn.modules.conv.Conv             [16, 32, 3, 2]                \n",
      "  2                  -1  1      7360  ultralytics.nn.modules.block.C2f             [32, 32, 1, True]             \n",
      "  3                  -1  1     18560  ultralytics.nn.modules.conv.Conv             [32, 64, 3, 2]                \n",
      "  4                  -1  2     49664  ultralytics.nn.modules.block.C2f             [64, 64, 2, True]             \n",
      "  5                  -1  1     73984  ultralytics.nn.modules.conv.Conv             [64, 128, 3, 2]               \n",
      "  6                  -1  2    197632  ultralytics.nn.modules.block.C2f             [128, 128, 2, True]           \n",
      "  7                  -1  1    295424  ultralytics.nn.modules.conv.Conv             [128, 256, 3, 2]              \n",
      "  8                  -1  1    460288  ultralytics.nn.modules.block.C2f             [256, 256, 1, True]           \n",
      "  9                  -1  1    164608  ultralytics.nn.modules.block.SPPF            [256, 256, 5]                 \n",
      " 10                  -1  1         0  torch.nn.modules.upsampling.Upsample         [None, 2, 'nearest']          \n",
      " 11             [-1, 6]  1         0  ultralytics.nn.modules.conv.Concat           [1]                           \n",
      " 12                  -1  1    148224  ultralytics.nn.modules.block.C2f             [384, 128, 1]                 \n",
      " 13                  -1  1         0  torch.nn.modules.upsampling.Upsample         [None, 2, 'nearest']          \n",
      " 14             [-1, 4]  1         0  ultralytics.nn.modules.conv.Concat           [1]                           \n",
      " 15                  -1  1     37248  ultralytics.nn.modules.block.C2f             [192, 64, 1]                  \n",
      " 16                  -1  1     36992  ultralytics.nn.modules.conv.Conv             [64, 64, 3, 2]                \n",
      " 17            [-1, 12]  1         0  ultralytics.nn.modules.conv.Concat           [1]                           \n",
      " 18                  -1  1    123648  ultralytics.nn.modules.block.C2f             [192, 128, 1]                 \n",
      " 19                  -1  1    147712  ultralytics.nn.modules.conv.Conv             [128, 128, 3, 2]              \n",
      " 20             [-1, 9]  1         0  ultralytics.nn.modules.conv.Concat           [1]                           \n",
      " 21                  -1  1    493056  ultralytics.nn.modules.block.C2f             [384, 256, 1]                 \n",
      " 22        [15, 18, 21]  1    755212  ultralytics.nn.modules.head.Detect           [20, [64, 128, 256]]          \n"
     ]
    },
    {
     "name": "stderr",
     "output_type": "stream",
     "text": [
      "\n"
     ]
    },
    {
     "name": "stdout",
     "output_type": "stream",
     "text": [
      "Model summary: 225 layers, 3,014,748 parameters, 3,014,732 gradients, 8.2 GFLOPs\n",
      "\n",
      "Transferred 319/355 items from pretrained weights\n",
      "Freezing layer 'model.22.dfl.conv.weight'\n"
     ]
    },
    {
     "name": "stderr",
     "output_type": "stream",
     "text": [
      "\u001b[34m\u001b[1mtrain: \u001b[0mScanning C:\\Users\\94772\\Desktop\\ai sprint\\datasets\\pascal_voc\\labels... 5011 images, 876 backgrounds, 0 corrupt: 100%|██████████| 5011/5011 [00:02<00:00, 1707.97it/s]\n"
     ]
    },
    {
     "name": "stdout",
     "output_type": "stream",
     "text": [
      "\u001b[34m\u001b[1mtrain: \u001b[0mNew cache created: C:\\Users\\94772\\Desktop\\ai sprint\\datasets\\pascal_voc\\labels.cache\n"
     ]
    },
    {
     "name": "stderr",
     "output_type": "stream",
     "text": [
      "\u001b[34m\u001b[1mval: \u001b[0mScanning C:\\Users\\94772\\Desktop\\ai sprint\\datasets\\pascal_voc\\labels.cache... 5011 images, 876 backgrounds, 0 corrupt: 100%|██████████| 5011/5011 [00:00<?, ?it/s]\n"
     ]
    },
    {
     "name": "stdout",
     "output_type": "stream",
     "text": [
      "Plotting labels to runs\\detect\\train5\\labels.jpg... \n",
      "\u001b[34m\u001b[1moptimizer:\u001b[0m 'optimizer=auto' found, ignoring 'lr0=0.01' and 'momentum=0.937' and determining best 'optimizer', 'lr0' and 'momentum' automatically... \n",
      "\u001b[34m\u001b[1moptimizer:\u001b[0m AdamW(lr=0.000417, momentum=0.9) with parameter groups 57 weight(decay=0.0), 64 weight(decay=0.0005), 63 bias(decay=0.0)\n",
      "Image sizes 640 train, 640 val\n",
      "Using 0 dataloader workers\n",
      "Logging results to \u001b[1mruns\\detect\\train5\u001b[0m\n",
      "Starting training for 10 epochs...\n",
      "Closing dataloader mosaic\n",
      "\n",
      "      Epoch    GPU_mem   box_loss   cls_loss   dfl_loss  Instances       Size\n"
     ]
    },
    {
     "name": "stderr",
     "output_type": "stream",
     "text": [
      "       1/10         0G      1.029      2.829      1.251          8        640: 100%|██████████| 314/314 [16:57<00:00,  3.24s/it]\n",
      "                 Class     Images  Instances      Box(P          R      mAP50  mAP50-95): 100%|██████████| 157/157 [04:52<00:00,  1.86s/it]\n"
     ]
    },
    {
     "name": "stdout",
     "output_type": "stream",
     "text": [
      "                   all       5011      11270      0.745      0.606      0.688      0.484\n",
      "\n",
      "      Epoch    GPU_mem   box_loss   cls_loss   dfl_loss  Instances       Size\n"
     ]
    },
    {
     "name": "stderr",
     "output_type": "stream",
     "text": [
      "       2/10         0G      1.107      2.037      1.299         11        640: 100%|██████████| 314/314 [17:46<00:00,  3.40s/it]\n",
      "                 Class     Images  Instances      Box(P          R      mAP50  mAP50-95): 100%|██████████| 157/157 [04:52<00:00,  1.87s/it]\n"
     ]
    },
    {
     "name": "stdout",
     "output_type": "stream",
     "text": [
      "                   all       5011      11270      0.702      0.623      0.684      0.454\n",
      "\n",
      "      Epoch    GPU_mem   box_loss   cls_loss   dfl_loss  Instances       Size\n"
     ]
    },
    {
     "name": "stderr",
     "output_type": "stream",
     "text": [
      "       3/10         0G      1.148      1.896      1.334          8        640: 100%|██████████| 314/314 [17:09<00:00,  3.28s/it]\n",
      "                 Class     Images  Instances      Box(P          R      mAP50  mAP50-95): 100%|██████████| 157/157 [05:22<00:00,  2.06s/it]\n"
     ]
    },
    {
     "name": "stdout",
     "output_type": "stream",
     "text": [
      "                   all       5011      11270      0.703      0.596      0.674      0.461\n",
      "\n",
      "      Epoch    GPU_mem   box_loss   cls_loss   dfl_loss  Instances       Size\n"
     ]
    },
    {
     "name": "stderr",
     "output_type": "stream",
     "text": [
      "       4/10         0G      1.129      1.739      1.326          6        640: 100%|██████████| 314/314 [17:19<00:00,  3.31s/it]\n",
      "                 Class     Images  Instances      Box(P          R      mAP50  mAP50-95): 100%|██████████| 157/157 [05:17<00:00,  2.02s/it]\n"
     ]
    },
    {
     "name": "stdout",
     "output_type": "stream",
     "text": [
      "                   all       5011      11270      0.732      0.645      0.714      0.479\n",
      "\n",
      "      Epoch    GPU_mem   box_loss   cls_loss   dfl_loss  Instances       Size\n"
     ]
    },
    {
     "name": "stderr",
     "output_type": "stream",
     "text": [
      "       5/10         0G      1.095      1.585      1.292          0        640: 100%|██████████| 314/314 [19:07<00:00,  3.65s/it]\n",
      "                 Class     Images  Instances      Box(P          R      mAP50  mAP50-95): 100%|██████████| 157/157 [04:55<00:00,  1.88s/it]\n"
     ]
    },
    {
     "name": "stdout",
     "output_type": "stream",
     "text": [
      "                   all       5011      11270      0.783      0.658      0.752      0.521\n",
      "\n",
      "      Epoch    GPU_mem   box_loss   cls_loss   dfl_loss  Instances       Size\n"
     ]
    },
    {
     "name": "stderr",
     "output_type": "stream",
     "text": [
      "       6/10         0G      1.066      1.396      1.268          7        640: 100%|██████████| 314/314 [17:58<00:00,  3.43s/it]\n",
      "                 Class     Images  Instances      Box(P          R      mAP50  mAP50-95): 100%|██████████| 157/157 [04:51<00:00,  1.85s/it]\n"
     ]
    },
    {
     "name": "stdout",
     "output_type": "stream",
     "text": [
      "                   all       5011      11270      0.811       0.72       0.81       0.58\n",
      "\n",
      "      Epoch    GPU_mem   box_loss   cls_loss   dfl_loss  Instances       Size\n"
     ]
    },
    {
     "name": "stderr",
     "output_type": "stream",
     "text": [
      "       7/10         0G      1.012      1.268      1.232          4        640: 100%|██████████| 314/314 [16:09<00:00,  3.09s/it]\n",
      "                 Class     Images  Instances      Box(P          R      mAP50  mAP50-95): 100%|██████████| 157/157 [04:23<00:00,  1.68s/it]\n"
     ]
    },
    {
     "name": "stdout",
     "output_type": "stream",
     "text": [
      "                   all       5011      11270      0.819      0.762      0.841      0.615\n",
      "\n",
      "      Epoch    GPU_mem   box_loss   cls_loss   dfl_loss  Instances       Size\n"
     ]
    },
    {
     "name": "stderr",
     "output_type": "stream",
     "text": [
      "       8/10         0G     0.9823       1.17      1.209          4        640: 100%|██████████| 314/314 [18:51<00:00,  3.60s/it]\n",
      "                 Class     Images  Instances      Box(P          R      mAP50  mAP50-95): 100%|██████████| 157/157 [05:38<00:00,  2.16s/it]\n"
     ]
    },
    {
     "name": "stdout",
     "output_type": "stream",
     "text": [
      "                   all       5011      11270      0.858      0.779      0.874      0.649\n",
      "\n",
      "      Epoch    GPU_mem   box_loss   cls_loss   dfl_loss  Instances       Size\n"
     ]
    },
    {
     "name": "stderr",
     "output_type": "stream",
     "text": [
      "       9/10         0G     0.9345      1.077      1.179         43        640:  70%|███████   | 220/314 [14:55<05:13,  3.33s/it]"
     ]
    }
   ],
   "source": [
    "from ultralytics import YOLO\n",
    "\n",
    "# Load the YOLO model\n",
    "model = YOLO('yolov8n.pt')  # Nano model for fast training\n",
    "\n",
    "# Train the model\n",
    "model.train(data=\"voc.yaml\", epochs=10, imgsz=640)\n",
    "\n",
    "# Validate the model\n",
    "metrics = model.val()\n",
    "print(\"Validation Metrics:\", metrics)\n"
   ]
  },
  {
   "cell_type": "code",
   "execution_count": 27,
   "metadata": {},
   "outputs": [
    {
     "name": "stdout",
     "output_type": "stream",
     "text": [
      "Images absolute path: c:\\Users\\94772\\Desktop\\ai sprint\\datasets\\pascal_voc\\images\n",
      "Labels absolute path: c:\\Users\\94772\\Desktop\\ai sprint\\datasets\\pascal_voc\\labels\n"
     ]
    }
   ],
   "source": [
    "import os\n",
    "print(\"Images absolute path:\", os.path.abspath(\"datasets/pascal_voc/images\"))\n",
    "print(\"Labels absolute path:\", os.path.abspath(\"datasets/pascal_voc/labels\"))\n"
   ]
  },
  {
   "cell_type": "code",
   "execution_count": null,
   "metadata": {},
   "outputs": [],
   "source": [
    "%pip install flask flask-cors"
   ]
  },
  {
   "cell_type": "code",
   "execution_count": null,
   "metadata": {},
   "outputs": [],
   "source": []
  }
 ],
 "metadata": {
  "kernelspec": {
   "display_name": "venv",
   "language": "python",
   "name": "python3"
  },
  "language_info": {
   "codemirror_mode": {
    "name": "ipython",
    "version": 3
   },
   "file_extension": ".py",
   "mimetype": "text/x-python",
   "name": "python",
   "nbconvert_exporter": "python",
   "pygments_lexer": "ipython3",
   "version": "3.10.0"
  }
 },
 "nbformat": 4,
 "nbformat_minor": 2
}
